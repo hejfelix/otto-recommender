{
 "cells": [
  {
   "cell_type": "markdown",
   "metadata": {},
   "source": [
    "# Analytics collection architecture\n",
    "\n",
    "\n",
    "Instead of reinventing this, we could either use `snowplow` altogether or build a similar pipeline.\n",
    "This takes care of everything related to collecting, validating, enriching (or anonymizing) and ultimately \n",
    "\"hosing\" the data into cloud storage to be consumed by the model-trainer.\n",
    "![](collector-architecture-snowplow.png)\n",
    "> From https://docs.snowplow.io/docs/understanding-your-pipeline/architecture-overview/"
   ]
  }
 ],
 "metadata": {
  "language_info": {
   "name": "python"
  },
  "orig_nbformat": 4
 },
 "nbformat": 4,
 "nbformat_minor": 2
}
