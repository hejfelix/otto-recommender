{
 "cells": [
  {
   "cell_type": "markdown",
   "id": "1d19ef32",
   "metadata": {},
   "source": [
    "# Recommendation model based on OTTO dataset\n",
    "\n",
    "This notebook loads the normalized version of [the OTTO session dataset](https://www.kaggle.com/datasets/otto/recsys-dataset?select=otto-recsys-train.jsonl).\n",
    "\n",
    "We aim is to solve three tasks:\n",
    "\n",
    "1. Provide the top-seller products from their shop\n",
    "1. Identifying frequently bought together (FreBoTo) items\n",
    "1. The customer requests real-time recommendation\n",
    "\n",
    "The dataset has been normalized (see [prep-data.ipynb](./prep-data.ipynb)) from the original json format into a table with the schema:\n",
    "\n",
    "```python\n",
    "meta = {\n",
    "    \"aid\": np.int64,\n",
    "    \"ts\": np.int64,\n",
    "    \"type\": np.str,\n",
    "    \"session\": np.int64,\n",
    "}\n",
    "```\n",
    "\n",
    "where \n",
    "* `aid` is the `article id` of a product\n",
    "* `ts` is the timestamp in epoch format\n",
    "* `type` is an enum of `{\"clicks\",\"carts\",\"orders\"}` representing the user _clicking on the product_, _adding the product to their basket_, and _placing an order that includes that product_, respectively.\n",
    "* `session` is the session id. From the dataset documentation: _\"A session is all activity by a single user either in the train or the test set.\"_\n",
    "\n",
    "> NOTE: Preferably, we would store and load the dataset in some kind of cloud-enabled storage to keep this book\n",
    "> portable and reproducible, but this is outside the scope of this book.\n",
    "\n",
    "_All_ IDs are anonymized, i.e. it's pretty hard to present an intuition about the results. As an example you cannot look up the products as they are no longer related to the products from `OTTO`. We have to rely solely on our evaluation scores with this data.\n",
    "\n",
    "## Approach\n",
    "\n",
    "We identify problem 2 (_Identifying frequently bought together (FreBoTo) items_) as the most challenging part, as it leaves the most room for interpretation while also inviting a machine-learning based approach.\n",
    "\n",
    "To solve this problem we focus on the `orders` in a session and treat it as a Natural Language Processing (NLP) problem. We can treat the sequence of orders in a session as _a sentence_ in NLP and solve the problem as *Next Event Predition* (NEP) task. \n",
    "\n",
    "If we look at a session in isolation, the NEP task would be: given the history of ordered articles, **what is the most likely next product that the customer would buy**.\n",
    "\n",
    "![](FF19_Artboard_10rev.png)\n",
    "> (Image from https://session-based-recommenders.fastforwardlabs.com/)\n",
    "\n",
    "\n",
    "In this notebook, we choose the [`Word2Vec`](https://en.wikipedia.org/wiki/Word2vec) approach to solve this problem. The [Gensim](https://radimrehurek.com/gensim/) library has an implementation of this training algorithm which we will use ([see specificly this link](https://radimrehurek.com/gensim/models/word2vec.html)).\n",
    "We are using the `skip-gram` algorithm configuration, specifically.\n",
    "\n",
    "To assess our solution, we use [`Recall at K`](https://en.wikipedia.org/wiki/Evaluation_measures_(information_retrieval)#Recall) and [`Mean Reciprocal Rank at K`](https://en.wikipedia.org/wiki/Mean_reciprocal_rank) to score the model against the \"ground truth\", i.e. based on the `n-1`th order, how likely are we to recommend the `n`th item from that session.\n",
    "\n",
    "We compare the 2 scores to a random algorithm which picks `K` random elements from a given vocabulary (the _vocabulary_ is the full list of `aid`s we see in the dataset).\n",
    "\n",
    "## Unsolved problems\n",
    "\n",
    "We do not solve the **cold start problem**, where, i.e., a new product is launched and not recommended, since the algorithm has no prior order history which includes this product. This could be solved as part of `problem 3` at the time of providing recommendations through an `API`, or possibly presented with a \"hero spot\" on the webpage until enough history can be gathered.\n",
    "\n",
    "We do not tune the **hyperparameters**, though this could possibly increase our score dramatically. \n",
    "\n",
    "## Dataset\n",
    "\n",
    "We use only the main dataset ('otto-recsys-train.jsonl') and split the sessions into training and test data manually. This is a bit more flexible and suits the `Word2Vec` approach.\n"
   ]
  },
  {
   "cell_type": "code",
   "execution_count": 83,
   "id": "920d71d7-5600-4272-b38b-b6d8f2aa2193",
   "metadata": {},
   "outputs": [
    {
     "name": "stdout",
     "output_type": "stream",
     "text": [
      "Running on machine: uname_result(system='Darwin', node='dkfepaha.local', release='22.6.0', version='Darwin Kernel Version 22.6.0: Fri Sep 15 13:41:28 PDT 2023; root:xnu-8796.141.3.700.8~1/RELEASE_ARM64_T6000', machine='arm64')\n",
      "\n",
      "Python 3.9.15 | packaged by conda-forge | (main, Nov 22 2022, 08:52:10) \n",
      "[Clang 14.0.6 ]\n",
      "Pandas 1.4.4\n"
     ]
    }
   ],
   "source": [
    "# Import libraries and print versions\n",
    "import sys\n",
    "\n",
    "import dask.dataframe as dd\n",
    "import pandas as pd\n",
    "import platform\n",
    "import numpy as np\n",
    "from typing import List\n",
    "\n",
    "print(f\"Running on machine: {platform.uname()}\")\n",
    "print()\n",
    "print(f\"Python {sys.version}\")\n",
    "print(f\"Pandas {pd.__version__}\")"
   ]
  },
  {
   "cell_type": "code",
   "execution_count": null,
   "id": "de7f08dc",
   "metadata": {},
   "outputs": [],
   "source": [
    "# Start a Dask Client for a local cluster (automatically started)\n",
    "from dask.distributed import Client\n",
    "client = Client()"
   ]
  },
  {
   "cell_type": "code",
   "execution_count": 85,
   "id": "5bc19113",
   "metadata": {},
   "outputs": [],
   "source": [
    "# Read the normalized dataset into a Dask DataFrame\n",
    "# We continue to work with the Dask DataFrame as long as possible as it supports lazy evaluation\n",
    "normalized = dd.read_parquet(f\"archive/otto-recsys-train.jsonl-parquet\")"
   ]
  },
  {
   "cell_type": "code",
   "execution_count": 86,
   "id": "58718629",
   "metadata": {},
   "outputs": [
    {
     "name": "stdout",
     "output_type": "stream",
     "text": [
      "Number of unique aids: 657940\n",
      "Total number of orders: 5098951\n",
      "Average number of orders per buying session: 3.1352344961502467\n",
      "Number of sessions with more than 3 orders: 602169\n",
      "Number of sessions with orders: 1626338\n",
      "Percentage of sessions with orders: 12.61%\n"
     ]
    }
   ],
   "source": [
    "mask = normalized[\"type\"] == \"orders\"  ## only orders\n",
    "\n",
    "orders = normalized[mask]  ## filter out orders\n",
    "\n",
    "\n",
    "sessions_with_orders = len(orders[\"session\"].unique())\n",
    "session_number = len(normalized[\"session\"].unique())\n",
    "vocabulary = (\n",
    "    orders[\"aid\"].unique().compute().tolist()\n",
    ")  # we need this for the random baseline model later\n",
    "unique_aids = len(vocabulary)\n",
    "percentage_with_purchase = sessions_with_orders / session_number * 100\n",
    "\n",
    "total_orders = len(orders)\n",
    "average_order_per_buying_session = total_orders / sessions_with_orders\n",
    "\n",
    "MINIMUM_ORDERS = 2\n",
    "\n",
    "sessions_with_more_than_k_orders = orders.map_partitions(\n",
    "    lambda df: df.groupby(\"session\").filter(lambda x: len(x) > MINIMUM_ORDERS)\n",
    ") ## we assume that each dask-partition contains full-sessions. TODO: recheck assumption\n",
    "\n",
    "num_sessions_with_more_than_k_orders = len(\n",
    "    sessions_with_more_than_k_orders[\"session\"].unique()\n",
    ")\n",
    "\n",
    "print(f\"Number of unique aids: {unique_aids}\")\n",
    "\n",
    "print(f\"Total number of orders: {total_orders}\")\n",
    "print(\n",
    "    f\"Average number of orders per buying session: {average_order_per_buying_session}\"\n",
    ")\n",
    "\n",
    "print(\n",
    "    f\"Number of sessions with more than 3 orders: {num_sessions_with_more_than_k_orders}\"\n",
    ")\n",
    "\n",
    "print(f\"Number of sessions with orders: {sessions_with_orders}\")\n",
    "print(f\"Percentage of sessions with orders: {percentage_with_purchase:.2f}%\")"
   ]
  },
  {
   "cell_type": "code",
   "execution_count": 87,
   "id": "7b266bb3",
   "metadata": {},
   "outputs": [
    {
     "name": "stdout",
     "output_type": "stream",
     "text": [
      "The 10 most popular products:\n",
      "231487     4485\n",
      "166037     3824\n",
      "1733943    3042\n",
      "1445562    2998\n",
      "1022566    2788\n",
      "801774     2710\n",
      "1629608    2628\n",
      "756588     2593\n",
      "332654     2436\n",
      "1603001    2353\n",
      "Name: aid, dtype: int64\n"
     ]
    }
   ],
   "source": [
    "product_counts = orders[\"aid\"].value_counts().values.compute()\n",
    "\n",
    "ten_most_popular = orders[\"aid\"].value_counts().nlargest(10).compute()\n",
    "ten_most_popular.to_json(\"ten_most_popular.json\")\n",
    "print(\"The 10 most popular products:\")\n",
    "print(ten_most_popular)"
   ]
  },
  {
   "cell_type": "code",
   "execution_count": 88,
   "id": "77eacf0e",
   "metadata": {},
   "outputs": [
    {
     "name": "stdout",
     "output_type": "stream",
     "text": [
      "count    657940.000000\n",
      "mean          7.749872\n",
      "std          34.841142\n",
      "min           1.000000\n",
      "25%           1.000000\n",
      "50%           2.000000\n",
      "75%           5.000000\n",
      "max        4485.000000\n",
      "Name: aid, dtype: float64\n"
     ]
    },
    {
     "data": {
      "text/html": [
       "<div>\n",
       "<style scoped>\n",
       "    .dataframe tbody tr th:only-of-type {\n",
       "        vertical-align: middle;\n",
       "    }\n",
       "\n",
       "    .dataframe tbody tr th {\n",
       "        vertical-align: top;\n",
       "    }\n",
       "\n",
       "    .dataframe thead th {\n",
       "        text-align: right;\n",
       "    }\n",
       "</style>\n",
       "<table border=\"1\" class=\"dataframe\">\n",
       "  <thead>\n",
       "    <tr style=\"text-align: right;\">\n",
       "      <th></th>\n",
       "      <th>aid</th>\n",
       "      <th>count</th>\n",
       "      <th>cum_pct</th>\n",
       "    </tr>\n",
       "  </thead>\n",
       "  <tbody>\n",
       "    <tr>\n",
       "      <th>0</th>\n",
       "      <td>1855600</td>\n",
       "      <td>1</td>\n",
       "      <td>1.961188e-07</td>\n",
       "    </tr>\n",
       "    <tr>\n",
       "      <th>1</th>\n",
       "      <td>1010497</td>\n",
       "      <td>1</td>\n",
       "      <td>3.922375e-07</td>\n",
       "    </tr>\n",
       "    <tr>\n",
       "      <th>2</th>\n",
       "      <td>1010505</td>\n",
       "      <td>1</td>\n",
       "      <td>5.883563e-07</td>\n",
       "    </tr>\n",
       "    <tr>\n",
       "      <th>3</th>\n",
       "      <td>1010518</td>\n",
       "      <td>1</td>\n",
       "      <td>7.844751e-07</td>\n",
       "    </tr>\n",
       "    <tr>\n",
       "      <th>4</th>\n",
       "      <td>1010520</td>\n",
       "      <td>1</td>\n",
       "      <td>9.805939e-07</td>\n",
       "    </tr>\n",
       "    <tr>\n",
       "      <th>...</th>\n",
       "      <td>...</td>\n",
       "      <td>...</td>\n",
       "      <td>...</td>\n",
       "    </tr>\n",
       "    <tr>\n",
       "      <th>657935</th>\n",
       "      <td>1022566</td>\n",
       "      <td>2788</td>\n",
       "      <td>9.971859e-01</td>\n",
       "    </tr>\n",
       "    <tr>\n",
       "      <th>657936</th>\n",
       "      <td>1445562</td>\n",
       "      <td>2998</td>\n",
       "      <td>9.977739e-01</td>\n",
       "    </tr>\n",
       "    <tr>\n",
       "      <th>657937</th>\n",
       "      <td>1733943</td>\n",
       "      <td>3042</td>\n",
       "      <td>9.983704e-01</td>\n",
       "    </tr>\n",
       "    <tr>\n",
       "      <th>657938</th>\n",
       "      <td>166037</td>\n",
       "      <td>3824</td>\n",
       "      <td>9.991204e-01</td>\n",
       "    </tr>\n",
       "    <tr>\n",
       "      <th>657939</th>\n",
       "      <td>231487</td>\n",
       "      <td>4485</td>\n",
       "      <td>1.000000e+00</td>\n",
       "    </tr>\n",
       "  </tbody>\n",
       "</table>\n",
       "<p>657940 rows × 3 columns</p>\n",
       "</div>"
      ],
      "text/plain": [
       "            aid  count       cum_pct\n",
       "0       1855600      1  1.961188e-07\n",
       "1       1010497      1  3.922375e-07\n",
       "2       1010505      1  5.883563e-07\n",
       "3       1010518      1  7.844751e-07\n",
       "4       1010520      1  9.805939e-07\n",
       "...         ...    ...           ...\n",
       "657935  1022566   2788  9.971859e-01\n",
       "657936  1445562   2998  9.977739e-01\n",
       "657937  1733943   3042  9.983704e-01\n",
       "657938   166037   3824  9.991204e-01\n",
       "657939   231487   4485  1.000000e+00\n",
       "\n",
       "[657940 rows x 3 columns]"
      ]
     },
     "execution_count": 88,
     "metadata": {},
     "output_type": "execute_result"
    }
   ],
   "source": [
    "value_counts = orders[\"aid\"].value_counts().compute()[::-1] # reversed to get lowest first\n",
    "print(value_counts.describe())\n",
    "value_counts_df = value_counts.to_frame(\"count\").reset_index().rename(columns={'index': 'aid'})\n",
    "value_counts_df['cum_pct'] = value_counts_df['count'].cumsum() / value_counts_df['count'].sum()\n",
    "value_counts_df"
   ]
  },
  {
   "cell_type": "code",
   "execution_count": 89,
   "id": "36c0990c",
   "metadata": {},
   "outputs": [
    {
     "data": {
      "text/plain": [
       "<AxesSubplot:>"
      ]
     },
     "execution_count": 89,
     "metadata": {},
     "output_type": "execute_result"
    },
    {
     "data": {
      "image/png": "[encoded data removed]",
      "text/plain": [
       "<Figure size 640x480 with 1 Axes>"
      ]
     },
     "metadata": {},
     "output_type": "display_data"
    }
   ],
   "source": [
    "# plot the cumulative distribution of product counts\n",
    "value_counts_df[\"cum_pct\"].plot()"
   ]
  },
  {
   "cell_type": "code",
   "execution_count": 90,
   "id": "7c2241f8",
   "metadata": {},
   "outputs": [
    {
     "data": {
      "image/png": "[encoded data removed]",
      "text/plain": [
       "<Figure size 800x600 with 1 Axes>"
      ]
     },
     "metadata": {},
     "output_type": "display_data"
    }
   ],
   "source": [
    "import matplotlib.pyplot as plt\n",
    "\n",
    "\n",
    "def get_nearest_index_sorted_list(x: float, sorted_list: List[float]) -> int:\n",
    "    \"\"\"Returns the index of the nearest value in a sorted list\"\"\"\n",
    "    return (np.abs(sorted_list - x)).argmin()\n",
    "\n",
    "\n",
    "cum_percentiles = [0.01, 0.1, 0.5, 0.75, 0.9]\n",
    "percentiles = [\n",
    "    (x, get_nearest_index_sorted_list(x, value_counts_df[\"cum_pct\"].values))\n",
    "    for x in cum_percentiles\n",
    "]\n",
    "\n",
    "plt.style.use(\"seaborn-white\")\n",
    "\n",
    "# plt.hist(sorted(product_counts), bins=100, log=True, histtype=\"step\")\n",
    "\n",
    "fig = plt.figure(figsize=(8, 6))\n",
    "plt.yticks(fontsize=14)\n",
    "plt.xticks(fontsize=14)\n",
    "\n",
    "sorted_counts = sorted(product_counts)\n",
    "plt.semilogy(sorted_counts)\n",
    "plt.ylabel(\"Order count\", fontsize=16)\n",
    "plt.xlabel(\"Product index\", fontsize=16)\n",
    "\n",
    "\n",
    "patterns = iter(\n",
    "    [\">\", \"8\", \"s\", \"p\", \"*\", \"X\"]\n",
    ")  # I'm colorblind, so use different markers\n",
    "for p, p_index in percentiles:\n",
    "    y = sorted_counts[p_index]\n",
    "    plt.plot(\n",
    "        p_index, y, label=f\"cumulative % ={p:.2f}\", marker=next(patterns), markersize=10\n",
    "    )\n",
    "plt.legend(fontsize=14)\n",
    "plt.tight_layout()"
   ]
  },
  {
   "cell_type": "markdown",
   "id": "f85eb88c",
   "metadata": {},
   "source": [
    "As we can see, the distribution of product purchases is very tail-heavy meaning we have a large vocabulary of words that are almost never used. More than 2/3 of the products are purchased less `<10` times, whereas the popular products are purchased `>1000` times."
   ]
  },
  {
   "cell_type": "code",
   "execution_count": 91,
   "id": "f8b86ed7",
   "metadata": {},
   "outputs": [],
   "source": [
    "filtered = sessions_with_more_than_k_orders[[\"aid\",\"session\"]] # discard timestamps and type"
   ]
  },
  {
   "cell_type": "code",
   "execution_count": 92,
   "id": "c0915965",
   "metadata": {},
   "outputs": [
    {
     "name": "stdout",
     "output_type": "stream",
     "text": [
      "602169\n"
     ]
    }
   ],
   "source": [
    "# we get the final session data in memory.\n",
    "# NOTE: This does not scale for even larger datasets, but it is not clear if gensim supports dask dataframes\n",
    "# At least this fits the requirement that the input needs to be a \"restartable\" iterator.\n",
    "orders_by_session: List[List[int]] = (\n",
    "    filtered.compute().groupby(\"session\").agg(list)[\"aid\"].values.tolist()\n",
    ")\n",
    "\n",
    "print(len(orders_by_session))"
   ]
  },
  {
   "cell_type": "code",
   "execution_count": 93,
   "id": "95ad3df3",
   "metadata": {},
   "outputs": [
    {
     "name": "stdout",
     "output_type": "stream",
     "text": [
      "orders_by_session has 602169 sessions\n"
     ]
    }
   ],
   "source": [
    "# We split the data into train, test and validation sets\n",
    "from split import train_test_split\n",
    "\n",
    "print(f\"orders_by_session has {len(orders_by_session)} sessions\")\n",
    "test_size = 3000  # this affects the scoring time and accuracy\n",
    "train, test, valid = train_test_split(orders_by_session, test_size=test_size)"
   ]
  },
  {
   "cell_type": "code",
   "execution_count": 94,
   "id": "077e2bdf",
   "metadata": {},
   "outputs": [
    {
     "name": "stdout",
     "output_type": "stream",
     "text": [
      "Training Word2Vec model on 602169 sessions\n"
     ]
    },
    {
     "name": "stderr",
     "output_type": "stream",
     "text": [
      "100%|██████████| 20/20 [01:42<00:00,  5.14s/epoch]\n"
     ]
    },
    {
     "name": "stdout",
     "output_type": "stream",
     "text": [
      "Losses: [(0, 7176575.0), (1, 11499396.0), (2, 14643479.0), (3, 17239000.0), (4, 19383406.0), (5, 21500640.0), (6, 23448306.0), (7, 25299990.0), (8, 27086662.0), (9, 28756744.0), (10, 30369550.0), (11, 31873658.0), (12, 33337774.0), (13, 34033804.0), (14, 34572184.0), (15, 35079484.0), (16, 35585432.0), (17, 36071820.0), (18, 36554304.0)]\n",
      "Saving model\n",
      "Saving word vectors\n",
      "Model size on disk: 12.46mb\n",
      "Word vectors size on disk: 12.46mb\n"
     ]
    }
   ],
   "source": [
    "\"\"\"\n",
    "Finally, we train the model and score it.\n",
    "We then compare it to the score of a random baseline model.\n",
    "\"\"\"\n",
    "\n",
    "from gensim.models import Word2Vec\n",
    "from evaluation import recall_at_k, mrr_at_k, RandomEmbeddings\n",
    "from LossLogger import LossLogger\n",
    "import os\n",
    "\n",
    "epochs = 20\n",
    "\n",
    "print(f\"Training Word2Vec model on {len(train)} sessions\")\n",
    "\n",
    "loss_logger = LossLogger(epochs)\n",
    "\n",
    "model = Word2Vec(\n",
    "    train,\n",
    "    min_count=1,\n",
    "    sg=1,\n",
    "    workers=8,\n",
    "    epochs=epochs,\n",
    "    window=10,\n",
    "    compute_loss=True,\n",
    "    callbacks=[loss_logger],\n",
    ")\n",
    "\n",
    "print(\"Saving model\")\n",
    "model.save(\"word2vec.model\")\n",
    "\n",
    "wv = model.wv\n",
    "print(\"Saving word vectors\")\n",
    "wv.save(\"word2vec.wordvectors\")\n",
    "\n",
    "model_size_in_mb = os.path.getsize(\"word2vec.model\") / (1024 * 1024)\n",
    "print(f\"Model size on disk: {model_size_in_mb:.2f}mb\")\n",
    "\n",
    "word_vectors_size_in_mb = os.path.getsize(\"word2vec.wordvectors\") / (1024 * 1024)\n",
    "print(f\"Word vectors size on disk: {model_size_in_mb:.2f}mb\")\n",
    "\n",
    "\n",
    "embeddings = model.wv  # \"word vectors\""
   ]
  },
  {
   "cell_type": "code",
   "execution_count": 95,
   "id": "d9aa949a",
   "metadata": {},
   "outputs": [
    {
     "data": {
      "text/plain": [
       "<matplotlib.collections.PathCollection at 0x2c7b144f0>"
      ]
     },
     "execution_count": 95,
     "metadata": {},
     "output_type": "execute_result"
    },
    {
     "data": {
      "image/png": "[encoded data removed]",
      "text/plain": [
       "<Figure size 640x480 with 1 Axes>"
      ]
     },
     "metadata": {},
     "output_type": "display_data"
    }
   ],
   "source": [
    "import matplotlib.pyplot as plt\n",
    "\n",
    "plt.scatter(x=range(0, epochs), y=loss_logger.delta_losses)"
   ]
  },
  {
   "cell_type": "code",
   "execution_count": 96,
   "id": "d374e41a",
   "metadata": {},
   "outputs": [
    {
     "name": "stdout",
     "output_type": "stream",
     "text": [
      "Evaluating model with 'recall@20'\n"
     ]
    },
    {
     "name": "stderr",
     "output_type": "stream",
     "text": [
      "100%|██████████| 3000/3000 [00:21<00:00, 140.28it/s]\n",
      "100%|██████████| 3000/3000 [01:15<00:00, 39.83it/s]\n"
     ]
    },
    {
     "name": "stdout",
     "output_type": "stream",
     "text": [
      "Model recall@20 score: 0.04\n",
      "Random recall@20 score: 0.0\n",
      "Evaluating model with 'mrr@20'\n"
     ]
    },
    {
     "name": "stderr",
     "output_type": "stream",
     "text": [
      "100%|██████████| 3000/3000 [00:21<00:00, 141.59it/s]\n",
      "100%|██████████| 3000/3000 [01:17<00:00, 38.73it/s]"
     ]
    },
    {
     "name": "stdout",
     "output_type": "stream",
     "text": [
      "Model mrr@20 score: 0.018222480691250056\n",
      "Random mrr@20 score: 0.0\n"
     ]
    },
    {
     "name": "stderr",
     "output_type": "stream",
     "text": [
      "\n"
     ]
    }
   ],
   "source": [
    "# Score the model against the random model\n",
    "from tqdm import tqdm\n",
    "K = 20\n",
    "\n",
    "random_embeddings = RandomEmbeddings(vocabulary)\n",
    "\n",
    "print(f\"Evaluating model with 'recall@{K}'\")\n",
    "recall_score = recall_at_k(tqdm(test), embeddings, k=K)\n",
    "recall_score_random = recall_at_k(tqdm(test), random_embeddings, k=K)\n",
    "print(f\"Model recall@{K} score: {recall_score}\")\n",
    "print(f\"Random recall@{K} score: {recall_score_random}\")\n",
    "\n",
    "print(f\"Evaluating model with 'mrr@{K}'\")\n",
    "mrr_score = mrr_at_k(tqdm(test), embeddings, k=K)\n",
    "mrr_score_random = mrr_at_k(tqdm(test), random_embeddings, k=K)\n",
    "print(f\"Model mrr@{K} score: {mrr_score}\")\n",
    "print(f\"Random mrr@{K} score: {mrr_score_random}\")"
   ]
  }
 ],
 "metadata": {
  "kernelspec": {
   "display_name": "Python 3.9 (tensorflow)",
   "language": "python",
   "name": "tensorflow"
  },
  "language_info": {
   "codemirror_mode": {
    "name": "ipython",
    "version": 3
   },
   "file_extension": ".py",
   "mimetype": "text/x-python",
   "name": "python",
   "nbconvert_exporter": "python",
   "pygments_lexer": "ipython3",
   "version": "3.9.15"
  }
 },
 "nbformat": 4,
 "nbformat_minor": 5
}
